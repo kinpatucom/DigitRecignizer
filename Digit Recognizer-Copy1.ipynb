{
 "cells": [
  {
   "cell_type": "code",
   "execution_count": 1,
   "metadata": {},
   "outputs": [
    {
     "name": "stderr",
     "output_type": "stream",
     "text": [
      "Using TensorFlow backend.\n"
     ]
    }
   ],
   "source": [
    "import numpy as np\n",
    "import pandas as pd\n",
    "\n",
    "#可視化\n",
    "import matplotlib.pyplot as plt\n",
    "import seaborn as sns\n",
    "%matplotlib inline\n",
    "\n",
    "from sklearn.model_selection import train_test_split\n",
    "\n",
    "from keras.models import Sequential,load_model\n",
    "from keras.layers import Dense,Activation,Dropout,Conv2D,MaxPool2D,Flatten,BatchNormalization\n",
    "from keras.utils.np_utils import to_categorical"
   ]
  },
  {
   "cell_type": "code",
   "execution_count": 2,
   "metadata": {},
   "outputs": [
    {
     "data": {
      "text/plain": [
       "Index(['label', 'pixel0', 'pixel1', 'pixel2', 'pixel3', 'pixel4', 'pixel5',\n",
       "       'pixel6', 'pixel7', 'pixel8',\n",
       "       ...\n",
       "       'pixel774', 'pixel775', 'pixel776', 'pixel777', 'pixel778', 'pixel779',\n",
       "       'pixel780', 'pixel781', 'pixel782', 'pixel783'],\n",
       "      dtype='object', length=785)"
      ]
     },
     "execution_count": 2,
     "metadata": {},
     "output_type": "execute_result"
    }
   ],
   "source": [
    "#data\n",
    "train=pd.read_csv('train.csv')\n",
    "test=pd.read_csv('test.csv')\n",
    "\n",
    "train.columns"
   ]
  },
  {
   "cell_type": "code",
   "execution_count": 3,
   "metadata": {},
   "outputs": [
    {
     "data": {
      "text/plain": [
       "1    4684\n",
       "7    4401\n",
       "3    4351\n",
       "9    4188\n",
       "2    4177\n",
       "6    4137\n",
       "0    4132\n",
       "4    4072\n",
       "8    4063\n",
       "5    3795\n",
       "Name: label, dtype: int64"
      ]
     },
     "execution_count": 3,
     "metadata": {},
     "output_type": "execute_result"
    },
    {
     "data": {
      "image/png": "[encoded data removed]",
      "text/plain": [
       "<matplotlib.figure.Figure at 0x10b994a90>"
      ]
     },
     "metadata": {},
     "output_type": "display_data"
    }
   ],
   "source": [
    "train_y=train['label']\n",
    "train_X=train.drop(['label'],axis=1)\n",
    "\n",
    "g=sns.countplot(train_y)\n",
    "train_y.value_counts()"
   ]
  },
  {
   "cell_type": "code",
   "execution_count": 4,
   "metadata": {},
   "outputs": [],
   "source": [
    "train_X=train_X.values.reshape(-1,28,28,1)\n",
    "test=test.values.reshape(-1,28,28,1)"
   ]
  },
  {
   "cell_type": "code",
   "execution_count": 5,
   "metadata": {},
   "outputs": [],
   "source": [
    "train_y=to_categorical(train_y,num_classes=10)"
   ]
  },
  {
   "cell_type": "code",
   "execution_count": 6,
   "metadata": {},
   "outputs": [],
   "source": [
    "train_X,val_X,train_y,val_y=train_test_split(train_X,train_y,test_size=0.1,random_state=42)"
   ]
  },
  {
   "cell_type": "code",
   "execution_count": 7,
   "metadata": {},
   "outputs": [],
   "source": [
    "model=Sequential()\n",
    "model.add(Conv2D(input_shape=(28,28,1),filters=32,activation='relu',kernel_size=(3,3),strides=(1,1),padding='same'))\n",
    "model.add(Conv2D(filters=32,kernel_size=(3,3),activation='relu',strides=(1,1),padding='same'))\n",
    "model.add(MaxPool2D(pool_size=(2,2)))\n",
    "model.add(Dropout(rate=0.25))\n",
    "model.add(Conv2D(filters=64,kernel_size=(3,3),padding='same',activation='relu'))\n",
    "model.add(Conv2D(filters=64,kernel_size=(3,3),padding='same',activation='relu'))\n",
    "model.add(MaxPool2D(pool_size=(2,2),strides=(2,2)))\n",
    "model.add(Dropout(rate=0.25))\n",
    "model.add(Flatten())\n",
    "model.add(BatchNormalization())\n",
    "model.add(Dense(128,activation='relu'))\n",
    "model.add(BatchNormalization())\n",
    "model.add(Dense(10,activation='softmax'))\n",
    "\n",
    "model.compile(loss='categorical_crossentropy',optimizer='adadelta',metrics=['accuracy'])"
   ]
  },
  {
   "cell_type": "code",
   "execution_count": 8,
   "metadata": {},
   "outputs": [],
   "source": [
    "#画像の水増し\n",
    "from keras.preprocessing.image import ImageDataGenerator\n",
    "imggen=ImageDataGenerator(featurewise_center=False, \n",
    "                          samplewise_center=False, \n",
    "                          featurewise_std_normalization=False, \n",
    "                          samplewise_std_normalization=False, \n",
    "                          rotation_range=0.1, \n",
    "                          width_shift_range=0.1, \n",
    "                          height_shift_range=0.1, \n",
    "                          zoom_range=0.1, \n",
    "                          horizontal_flip=False, \n",
    "                          vertical_flip=False, )"
   ]
  },
  {
   "cell_type": "code",
   "execution_count": 9,
   "metadata": {},
   "outputs": [],
   "source": [
    "imggen.fit(train_X)"
   ]
  },
  {
   "cell_type": "code",
   "execution_count": 10,
   "metadata": {},
   "outputs": [
    {
     "name": "stdout",
     "output_type": "stream",
     "text": [
      "Epoch 1/15\n",
      "1182/1181 [==============================] - 172s 145ms/step - loss: 0.2806 - acc: 0.9114 - val_loss: 0.1082 - val_acc: 0.9626\n",
      "Epoch 2/15\n",
      "1182/1181 [==============================] - 177s 150ms/step - loss: 0.1059 - acc: 0.9671 - val_loss: 0.0574 - val_acc: 0.9831\n",
      "Epoch 3/15\n",
      "1182/1181 [==============================] - 179s 151ms/step - loss: 0.0831 - acc: 0.9744 - val_loss: 0.0351 - val_acc: 0.9890\n",
      "Epoch 4/15\n",
      "1182/1181 [==============================] - 178s 151ms/step - loss: 0.0705 - acc: 0.9783 - val_loss: 0.0395 - val_acc: 0.9883\n",
      "Epoch 5/15\n",
      "1182/1181 [==============================] - 180s 152ms/step - loss: 0.0632 - acc: 0.9806 - val_loss: 0.0387 - val_acc: 0.9898\n",
      "Epoch 6/15\n",
      "1182/1181 [==============================] - 171s 145ms/step - loss: 0.0573 - acc: 0.9819 - val_loss: 0.0380 - val_acc: 0.9912\n",
      "Epoch 7/15\n",
      "1182/1181 [==============================] - 174s 147ms/step - loss: 0.0537 - acc: 0.9842 - val_loss: 0.0272 - val_acc: 0.9910\n",
      "Epoch 8/15\n",
      "1182/1181 [==============================] - 173s 146ms/step - loss: 0.0517 - acc: 0.9840 - val_loss: 0.0326 - val_acc: 0.9905\n",
      "Epoch 9/15\n",
      "1182/1181 [==============================] - 182s 154ms/step - loss: 0.0491 - acc: 0.9851 - val_loss: 0.0303 - val_acc: 0.9919\n",
      "Epoch 10/15\n",
      "1182/1181 [==============================] - 187s 158ms/step - loss: 0.0447 - acc: 0.9864 - val_loss: 0.0299 - val_acc: 0.9910\n",
      "Epoch 11/15\n",
      "1182/1181 [==============================] - 189s 160ms/step - loss: 0.0457 - acc: 0.9860 - val_loss: 0.0287 - val_acc: 0.9919\n",
      "Epoch 12/15\n",
      "1182/1181 [==============================] - 184s 156ms/step - loss: 0.0449 - acc: 0.9861 - val_loss: 0.0369 - val_acc: 0.9905\n",
      "Epoch 13/15\n",
      "1182/1181 [==============================] - 171s 144ms/step - loss: 0.0412 - acc: 0.9870 - val_loss: 0.0194 - val_acc: 0.9943\n",
      "Epoch 14/15\n",
      "1182/1181 [==============================] - 179s 152ms/step - loss: 0.0403 - acc: 0.9882 - val_loss: 0.0217 - val_acc: 0.9938\n",
      "Epoch 15/15\n",
      "1182/1181 [==============================] - 192s 162ms/step - loss: 0.0389 - acc: 0.9882 - val_loss: 0.0224 - val_acc: 0.9931\n"
     ]
    }
   ],
   "source": [
    "history=model.fit_generator(imggen.flow(train_X,train_y,batch_size=32),epochs=15,\n",
    "                           validation_data=(val_X,val_y),\n",
    "                           verbose=1,steps_per_epoch=len(train_X)/32)"
   ]
  },
  {
   "cell_type": "code",
   "execution_count": 11,
   "metadata": {},
   "outputs": [
    {
     "name": "stdout",
     "output_type": "stream",
     "text": [
      "4200/4200 [==============================] - 4s 1ms/step\n",
      "loss:0.022429418674742227\n",
      " acc :0.9930952380952381\n"
     ]
    },
    {
     "data": {
      "image/png": "[encoded data removed]",
      "text/plain": [
       "<matplotlib.figure.Figure at 0x126caa0b8>"
      ]
     },
     "metadata": {},
     "output_type": "display_data"
    },
    {
     "name": "stdout",
     "output_type": "stream",
     "text": [
      "[8 1 9 9 8 6 2 2 7 1]\n",
      "_________________________________________________________________\n",
      "Layer (type)                 Output Shape              Param #   \n",
      "=================================================================\n",
      "conv2d_1 (Conv2D)            (None, 28, 28, 32)        320       \n",
      "_________________________________________________________________\n",
      "conv2d_2 (Conv2D)            (None, 28, 28, 32)        9248      \n",
      "_________________________________________________________________\n",
      "max_pooling2d_1 (MaxPooling2 (None, 14, 14, 32)        0         \n",
      "_________________________________________________________________\n",
      "dropout_1 (Dropout)          (None, 14, 14, 32)        0         \n",
      "_________________________________________________________________\n",
      "conv2d_3 (Conv2D)            (None, 14, 14, 64)        18496     \n",
      "_________________________________________________________________\n",
      "conv2d_4 (Conv2D)            (None, 14, 14, 64)        36928     \n",
      "_________________________________________________________________\n",
      "max_pooling2d_2 (MaxPooling2 (None, 7, 7, 64)          0         \n",
      "_________________________________________________________________\n",
      "dropout_2 (Dropout)          (None, 7, 7, 64)          0         \n",
      "_________________________________________________________________\n",
      "flatten_1 (Flatten)          (None, 3136)              0         \n",
      "_________________________________________________________________\n",
      "batch_normalization_1 (Batch (None, 3136)              12544     \n",
      "_________________________________________________________________\n",
      "dense_1 (Dense)              (None, 128)               401536    \n",
      "_________________________________________________________________\n",
      "batch_normalization_2 (Batch (None, 128)               512       \n",
      "_________________________________________________________________\n",
      "dense_2 (Dense)              (None, 10)                1290      \n",
      "=================================================================\n",
      "Total params: 480,874\n",
      "Trainable params: 474,346\n",
      "Non-trainable params: 6,528\n",
      "_________________________________________________________________\n"
     ]
    }
   ],
   "source": [
    "score=model.evaluate(val_X,val_y,verbose=1)\n",
    "print('loss:{0[0]}\\n acc :{0[1]}'.format(score))\n",
    "\n",
    "#可視化\n",
    "for i in range(10):\n",
    "    plt.subplot(2,5,i+1)\n",
    "    plt.imshow(val_X[i].reshape((28,28)),'gray')\n",
    "    \n",
    "plt.suptitle('The first ten',fontsize=20)\n",
    "plt.show()\n",
    "\n",
    "pred=np.argmax(model.predict(val_X[:10]),axis=1)\n",
    "print(pred)\n",
    "\n",
    "model.summary()"
   ]
  },
  {
   "cell_type": "code",
   "execution_count": 12,
   "metadata": {},
   "outputs": [],
   "source": [
    "results=model.predict(test)\n",
    "results=np.argmax(results,axis=1)\n",
    "results=pd.Series(results,name='Label')"
   ]
  },
  {
   "cell_type": "code",
   "execution_count": 14,
   "metadata": {},
   "outputs": [],
   "source": [
    "submission=pd.concat([pd.Series(range(1,28001),name='ImageID'),results],axis=1)\n",
    "submission.to_csv('cnn_mnist_batch_normalization.csv',index=False)"
   ]
  },
  {
   "cell_type": "code",
   "execution_count": null,
   "metadata": {},
   "outputs": [],
   "source": []
  }
 ],
 "metadata": {
  "kernelspec": {
   "display_name": "Python 3",
   "language": "python",
   "name": "python3"
  },
  "language_info": {
   "codemirror_mode": {
    "name": "ipython",
    "version": 3
   },
   "file_extension": ".py",
   "mimetype": "text/x-python",
   "name": "python",
   "nbconvert_exporter": "python",
   "pygments_lexer": "ipython3",
   "version": "3.6.5"
  }
 },
 "nbformat": 4,
 "nbformat_minor": 2
}
